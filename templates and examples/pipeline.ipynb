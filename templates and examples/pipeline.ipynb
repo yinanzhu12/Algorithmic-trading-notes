{
 "cells": [
  {
   "cell_type": "code",
   "execution_count": 1,
   "metadata": {
    "collapsed": true
   },
   "outputs": [],
   "source": [
    "from quantopian.pipeline.data import Fundamentals\n",
    "from quantopian.pipeline.data.builtin import USEquityPricing\n",
    "from quantopian.research import run_pipeline\n",
    "from quantopian.pipeline.factors import CustomFactor, Returns, SimpleBeta\n",
    "from quantopian.pipeline.filters import QTradableStocksUS\n",
    "from quantopian.pipeline import Pipeline\n",
    "import pandas as pd"
   ]
  },
  {
   "cell_type": "markdown",
   "metadata": {},
   "source": [
    "define custom factors"
   ]
  },
  {
   "cell_type": "code",
   "execution_count": 2,
   "metadata": {
    "collapsed": true
   },
   "outputs": [],
   "source": [
    "class CrossSectionalMomentum(CustomFactor):    \n",
    "    inputs = [USEquityPricing.close]\n",
    "    window_length = 252\n",
    "    def compute(self, today, assets, out, prices):\n",
    "        prices = pd.DataFrame(prices)\n",
    "        R = (prices / prices.shift(100))\n",
    "        out[:] = (R.T - R.T.mean()).T.mean()"
   ]
  },
  {
   "cell_type": "code",
   "execution_count": 10,
   "metadata": {
    "collapsed": false
   },
   "outputs": [],
   "source": [
    "def make_pipeline():\n",
    "    #universe\n",
    "    initial_screen=QTradableStocksUS()\n",
    "    \n",
    "    #use custom factors\n",
    "    cross_momentum = CrossSectionalMomentum()\n",
    "    \n",
    "    #use built in factors\n",
    "    abs_momentum = Returns(inputs=[USEquityPricing.close], window_length=252,mask=initial_screen)\n",
    "    beta=SimpleBeta(target=symbols(8554),regression_length=100)\n",
    "    \n",
    "    #use factors from Fundamentals data set\n",
    "    pb=Fundamentals.pb_ratio.latest\n",
    "    \n",
    "    #rank factors\n",
    "    cross_momentum_rank=cross_momentum.rank(mask=initial_screen)\n",
    "    abs_momentum_rank=abs_momentum.rank(mask=initial_screen)\n",
    "    \n",
    "    #combine factors\n",
    "    combined_rank = (cross_momentum_rank+ abs_momentum_rank)\n",
    "    \n",
    "    #select assets according to factors\n",
    "    longs = combined_rank.percentile_between(95, 100)\n",
    "    shorts = combined_rank.percentile_between(0, 5)\n",
    "\n",
    "    #setup final screen\n",
    "    pipe_screen = (combined_rank.notnan()&beta.notnan()&initial_screen&pb.notnan())\n",
    "    \n",
    "    #define columns\n",
    "    pipe_columns = {\n",
    "        'long':longs,\n",
    "        'short': shorts,\n",
    "        'pb':pb,\n",
    "        'combined_rank':combined_rank,\n",
    "        'beta':beta\n",
    "    }\n",
    "    pipe = Pipeline(columns = pipe_columns, screen = pipe_screen)\n",
    "    return pipe"
   ]
  },
  {
   "cell_type": "markdown",
   "metadata": {},
   "source": [
    "run pipeline"
   ]
  },
  {
   "cell_type": "code",
   "execution_count": 13,
   "metadata": {
    "collapsed": false
   },
   "outputs": [
    {
     "data": {
      "text/html": [
       "<div>\n",
       "<table border=\"1\" class=\"dataframe\">\n",
       "  <thead>\n",
       "    <tr style=\"text-align: right;\">\n",
       "      <th></th>\n",
       "      <th></th>\n",
       "      <th>beta</th>\n",
       "      <th>combined_rank</th>\n",
       "      <th>long</th>\n",
       "      <th>pb</th>\n",
       "      <th>short</th>\n",
       "    </tr>\n",
       "  </thead>\n",
       "  <tbody>\n",
       "    <tr>\n",
       "      <th rowspan=\"5\" valign=\"top\">2017-01-03 00:00:00+00:00</th>\n",
       "      <th>Equity(2 [ARNC])</th>\n",
       "      <td>2.605633</td>\n",
       "      <td>368.0</td>\n",
       "      <td>False</td>\n",
       "      <td>0.693811</td>\n",
       "      <td>False</td>\n",
       "    </tr>\n",
       "    <tr>\n",
       "      <th>Equity(24 [AAPL])</th>\n",
       "      <td>0.785678</td>\n",
       "      <td>1752.0</td>\n",
       "      <td>False</td>\n",
       "      <td>4.815542</td>\n",
       "      <td>False</td>\n",
       "    </tr>\n",
       "    <tr>\n",
       "      <th>Equity(31 [ABAX])</th>\n",
       "      <td>1.460706</td>\n",
       "      <td>1478.0</td>\n",
       "      <td>False</td>\n",
       "      <td>4.697926</td>\n",
       "      <td>False</td>\n",
       "    </tr>\n",
       "    <tr>\n",
       "      <th>Equity(41 [ARCB])</th>\n",
       "      <td>1.693973</td>\n",
       "      <td>2793.0</td>\n",
       "      <td>False</td>\n",
       "      <td>1.190387</td>\n",
       "      <td>False</td>\n",
       "    </tr>\n",
       "    <tr>\n",
       "      <th>Equity(52 [ABM])</th>\n",
       "      <td>1.216629</td>\n",
       "      <td>3270.0</td>\n",
       "      <td>False</td>\n",
       "      <td>2.329462</td>\n",
       "      <td>False</td>\n",
       "    </tr>\n",
       "  </tbody>\n",
       "</table>\n",
       "</div>"
      ],
      "text/plain": [
       "                                                 beta  combined_rank   long  \\\n",
       "2017-01-03 00:00:00+00:00 Equity(2 [ARNC])   2.605633          368.0  False   \n",
       "                          Equity(24 [AAPL])  0.785678         1752.0  False   \n",
       "                          Equity(31 [ABAX])  1.460706         1478.0  False   \n",
       "                          Equity(41 [ARCB])  1.693973         2793.0  False   \n",
       "                          Equity(52 [ABM])   1.216629         3270.0  False   \n",
       "\n",
       "                                                   pb  short  \n",
       "2017-01-03 00:00:00+00:00 Equity(2 [ARNC])   0.693811  False  \n",
       "                          Equity(24 [AAPL])  4.815542  False  \n",
       "                          Equity(31 [ABAX])  4.697926  False  \n",
       "                          Equity(41 [ARCB])  1.190387  False  \n",
       "                          Equity(52 [ABM])   2.329462  False  "
      ]
     },
     "execution_count": 13,
     "metadata": {},
     "output_type": "execute_result"
    }
   ],
   "source": [
    "output=run_pipeline(make_pipeline(),start_date='01/01/2017',end_date='12/31/2017')\n",
    "output.head()"
   ]
  }
 ],
 "metadata": {
  "kernelspec": {
   "display_name": "Python 2",
   "language": "python",
   "name": "python2"
  },
  "language_info": {
   "codemirror_mode": {
    "name": "ipython",
    "version": 2
   },
   "file_extension": ".py",
   "mimetype": "text/x-python",
   "name": "python",
   "nbconvert_exporter": "python",
   "pygments_lexer": "ipython2",
   "version": "2.7.12"
  }
 },
 "nbformat": 4,
 "nbformat_minor": 2
}