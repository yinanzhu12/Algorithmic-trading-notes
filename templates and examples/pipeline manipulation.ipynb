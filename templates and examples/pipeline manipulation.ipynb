{
 "cells": [
  {
   "cell_type": "markdown",
   "metadata": {},
   "source": [
    "Some pipeline augmentation tricks from https://www.quantopian.com/posts/building-the-foundations-for-hypothesis-testing"
   ]
  },
  {
   "cell_type": "code",
   "execution_count": 1,
   "metadata": {
    "collapsed": false
   },
   "outputs": [],
   "source": [
    "import numpy as np\n",
    "import pandas as pd\n",
    "\n",
    "from quantopian.pipeline import CustomFactor, Pipeline\n",
    "from quantopian.research import run_pipeline\n",
    "from quantopian.pipeline.data.builtin import USEquityPricing\n",
    "from quantopian.pipeline.factors import AverageDollarVolume\n",
    "from quantopian.pipeline.factors import Returns\n",
    "from quantopian.pipeline.filters.morningstar import Q500US\n",
    "from quantopian.pipeline.classifiers.morningstar import Sector\n",
    "\n",
    "from quantopian.pipeline.data.zacks import EarningsSurprises\n",
    "from quantopian.pipeline.factors.eventvestor import (\n",
    "BusinessDaysUntilNextEarnings,\n",
    "BusinessDaysSincePreviousEarnings\n",
    ")\n",
    "from quantopian.pipeline.data.eventvestor import EarningsCalendar\n",
    "\n",
    "from datetime import timedelta\n",
    "\n",
    "import bisect"
   ]
  },
  {
   "cell_type": "markdown",
   "metadata": {},
   "source": [
    "Split so we don't go over memory limits, doesn't affect the final output"
   ]
  },
  {
   "cell_type": "code",
   "execution_count": 2,
   "metadata": {
    "collapsed": true
   },
   "outputs": [],
   "source": [
    "# Split so we don't go over memory limits\n",
    "def split_run_pipeline(pipeline, start, end, segments):\n",
    "    dts = np.arange(start, end, (end - start) / segments)\n",
    "    if len(dts) == segments:\n",
    "        dts = np.append(dts, end)\n",
    "    return pd.concat(map(\n",
    "        lambda i: run_pipeline(pipeline, dts[i], dts[i + 1] - pd.Timedelta('1d')),\n",
    "        range(segments)\n",
    "    ))"
   ]
  },
  {
   "cell_type": "code",
   "execution_count": 3,
   "metadata": {
    "collapsed": true
   },
   "outputs": [],
   "source": [
    "def create_positions_pipeline():\n",
    "    # filters\n",
    "    has_earnings_announcement = BusinessDaysUntilNextEarnings().eq(1)\n",
    "    \n",
    "    # factors\n",
    "    price = USEquityPricing.open.latest\n",
    "    lag_ea_surp = EarningsSurprises.eps_pct_diff_surp.latest\n",
    "    dollar_volume = AverageDollarVolume(window_length=30)\n",
    "    sector = Sector()\n",
    "\n",
    "    return Pipeline(columns= {\n",
    "        'LagEaSurp': lag_ea_surp,\n",
    "        'Current Price': price, \n",
    "        'Earnings Announcement': EarningsCalendar.next_announcement.latest,\n",
    "        'Average Dollar Volume': dollar_volume,\n",
    "        'Sector': sector}, \n",
    "                    screen=has_earnings_announcement & Q500US())"
   ]
  },
  {
   "cell_type": "code",
   "execution_count": 4,
   "metadata": {
    "collapsed": true
   },
   "outputs": [],
   "source": [
    "START = pd.Timestamp('01-01-2013')\n",
    "END = pd.Timestamp('02-01-2013')\n",
    "SPLITS = 2"
   ]
  },
  {
   "cell_type": "code",
   "execution_count": 5,
   "metadata": {
    "collapsed": false
   },
   "outputs": [],
   "source": [
    "positions_data = split_run_pipeline(create_positions_pipeline(), START, END, SPLITS)\n",
    "positions_data.dropna(inplace=True)"
   ]
  },
  {
   "cell_type": "code",
   "execution_count": 6,
   "metadata": {
    "collapsed": false
   },
   "outputs": [
    {
     "data": {
      "text/html": [
       "<div>\n",
       "<table border=\"1\" class=\"dataframe\">\n",
       "  <thead>\n",
       "    <tr style=\"text-align: right;\">\n",
       "      <th></th>\n",
       "      <th></th>\n",
       "      <th>Average Dollar Volume</th>\n",
       "      <th>Current Price</th>\n",
       "      <th>Earnings Announcement</th>\n",
       "      <th>LagEaSurp</th>\n",
       "      <th>Sector</th>\n",
       "    </tr>\n",
       "  </thead>\n",
       "  <tbody>\n",
       "    <tr>\n",
       "      <th>2013-01-03 00:00:00+00:00</th>\n",
       "      <th>Equity(41462 [MOS])</th>\n",
       "      <td>1.313662e+08</td>\n",
       "      <td>58.060</td>\n",
       "      <td>2013-01-04</td>\n",
       "      <td>-12.17</td>\n",
       "      <td>101</td>\n",
       "    </tr>\n",
       "    <tr>\n",
       "      <th>2013-01-07 00:00:00+00:00</th>\n",
       "      <th>Equity(22140 [MON])</th>\n",
       "      <td>1.839306e+08</td>\n",
       "      <td>95.560</td>\n",
       "      <td>2013-01-08</td>\n",
       "      <td>0.00</td>\n",
       "      <td>101</td>\n",
       "    </tr>\n",
       "    <tr>\n",
       "      <th rowspan=\"2\" valign=\"top\">2013-01-08 00:00:00+00:00</th>\n",
       "      <th>Equity(24829 [APOL])</th>\n",
       "      <td>3.890250e+07</td>\n",
       "      <td>22.040</td>\n",
       "      <td>2013-01-08</td>\n",
       "      <td>6.12</td>\n",
       "      <td>205</td>\n",
       "    </tr>\n",
       "    <tr>\n",
       "      <th>Equity(24873 [STZ])</th>\n",
       "      <td>4.164929e+07</td>\n",
       "      <td>36.520</td>\n",
       "      <td>2013-01-09</td>\n",
       "      <td>31.48</td>\n",
       "      <td>205</td>\n",
       "    </tr>\n",
       "    <tr>\n",
       "      <th>2013-01-10 00:00:00+00:00</th>\n",
       "      <th>Equity(8151 [WFC])</th>\n",
       "      <td>7.091657e+08</td>\n",
       "      <td>34.847</td>\n",
       "      <td>2013-01-11</td>\n",
       "      <td>1.15</td>\n",
       "      <td>103</td>\n",
       "    </tr>\n",
       "  </tbody>\n",
       "</table>\n",
       "</div>"
      ],
      "text/plain": [
       "                                                Average Dollar Volume  \\\n",
       "2013-01-03 00:00:00+00:00 Equity(41462 [MOS])            1.313662e+08   \n",
       "2013-01-07 00:00:00+00:00 Equity(22140 [MON])            1.839306e+08   \n",
       "2013-01-08 00:00:00+00:00 Equity(24829 [APOL])           3.890250e+07   \n",
       "                          Equity(24873 [STZ])            4.164929e+07   \n",
       "2013-01-10 00:00:00+00:00 Equity(8151 [WFC])             7.091657e+08   \n",
       "\n",
       "                                                Current Price  \\\n",
       "2013-01-03 00:00:00+00:00 Equity(41462 [MOS])          58.060   \n",
       "2013-01-07 00:00:00+00:00 Equity(22140 [MON])          95.560   \n",
       "2013-01-08 00:00:00+00:00 Equity(24829 [APOL])         22.040   \n",
       "                          Equity(24873 [STZ])          36.520   \n",
       "2013-01-10 00:00:00+00:00 Equity(8151 [WFC])           34.847   \n",
       "\n",
       "                                               Earnings Announcement  \\\n",
       "2013-01-03 00:00:00+00:00 Equity(41462 [MOS])             2013-01-04   \n",
       "2013-01-07 00:00:00+00:00 Equity(22140 [MON])             2013-01-08   \n",
       "2013-01-08 00:00:00+00:00 Equity(24829 [APOL])            2013-01-08   \n",
       "                          Equity(24873 [STZ])             2013-01-09   \n",
       "2013-01-10 00:00:00+00:00 Equity(8151 [WFC])              2013-01-11   \n",
       "\n",
       "                                                LagEaSurp  Sector  \n",
       "2013-01-03 00:00:00+00:00 Equity(41462 [MOS])      -12.17     101  \n",
       "2013-01-07 00:00:00+00:00 Equity(22140 [MON])        0.00     101  \n",
       "2013-01-08 00:00:00+00:00 Equity(24829 [APOL])       6.12     205  \n",
       "                          Equity(24873 [STZ])       31.48     205  \n",
       "2013-01-10 00:00:00+00:00 Equity(8151 [WFC])         1.15     103  "
      ]
     },
     "execution_count": 6,
     "metadata": {},
     "output_type": "execute_result"
    }
   ],
   "source": [
    "positions_data.head()"
   ]
  },
  {
   "cell_type": "markdown",
   "metadata": {},
   "source": [
    "create another pipeline with 3 days backward returns, notice the definition of \"had_earnings\""
   ]
  },
  {
   "cell_type": "code",
   "execution_count": 7,
   "metadata": {
    "collapsed": false
   },
   "outputs": [],
   "source": [
    "def create_returns_pipeline():\n",
    "    three_day_returns = Returns(mask=Q500US(), inputs=[USEquityPricing.open], window_length=3)\n",
    "    had_earnings = BusinessDaysSincePreviousEarnings().eq(2)\n",
    "    return Pipeline(columns={\n",
    "        'Returns 2 days after': three_day_returns,\n",
    "        'Earnings Announcement': EarningsCalendar.previous_announcement.latest\n",
    "                    },\n",
    "                    screen=had_earnings & Q500US())"
   ]
  },
  {
   "cell_type": "code",
   "execution_count": 8,
   "metadata": {
    "collapsed": false
   },
   "outputs": [
    {
     "data": {
      "text/html": [
       "<div>\n",
       "<table border=\"1\" class=\"dataframe\">\n",
       "  <thead>\n",
       "    <tr style=\"text-align: right;\">\n",
       "      <th></th>\n",
       "      <th></th>\n",
       "      <th>Earnings Announcement</th>\n",
       "      <th>Returns 2 days after</th>\n",
       "    </tr>\n",
       "  </thead>\n",
       "  <tbody>\n",
       "    <tr>\n",
       "      <th>2013-01-07 00:00:00+00:00</th>\n",
       "      <th>Equity(2760 [FDO])</th>\n",
       "      <td>2013-01-03</td>\n",
       "      <td>-0.123567</td>\n",
       "    </tr>\n",
       "    <tr>\n",
       "      <th>2013-01-08 00:00:00+00:00</th>\n",
       "      <th>Equity(41462 [MOS])</th>\n",
       "      <td>2013-01-04</td>\n",
       "      <td>0.010936</td>\n",
       "    </tr>\n",
       "    <tr>\n",
       "      <th>2013-01-10 00:00:00+00:00</th>\n",
       "      <th>Equity(22140 [MON])</th>\n",
       "      <td>2013-01-08</td>\n",
       "      <td>0.024255</td>\n",
       "    </tr>\n",
       "  </tbody>\n",
       "</table>\n",
       "</div>"
      ],
      "text/plain": [
       "                                              Earnings Announcement  \\\n",
       "2013-01-07 00:00:00+00:00 Equity(2760 [FDO])             2013-01-03   \n",
       "2013-01-08 00:00:00+00:00 Equity(41462 [MOS])            2013-01-04   \n",
       "2013-01-10 00:00:00+00:00 Equity(22140 [MON])            2013-01-08   \n",
       "\n",
       "                                               Returns 2 days after  \n",
       "2013-01-07 00:00:00+00:00 Equity(2760 [FDO])              -0.123567  \n",
       "2013-01-08 00:00:00+00:00 Equity(41462 [MOS])              0.010936  \n",
       "2013-01-10 00:00:00+00:00 Equity(22140 [MON])              0.024255  "
      ]
     },
     "execution_count": 8,
     "metadata": {},
     "output_type": "execute_result"
    }
   ],
   "source": [
    "returns_data = split_run_pipeline(create_returns_pipeline(), START, END, SPLITS)\n",
    "returns_data.head(3)"
   ]
  },
  {
   "cell_type": "markdown",
   "metadata": {},
   "source": [
    "adjust the pipeline's columns"
   ]
  },
  {
   "cell_type": "code",
   "execution_count": 9,
   "metadata": {
    "collapsed": false
   },
   "outputs": [
    {
     "data": {
      "text/html": [
       "<div>\n",
       "<table border=\"1\" class=\"dataframe\">\n",
       "  <thead>\n",
       "    <tr style=\"text-align: right;\">\n",
       "      <th></th>\n",
       "      <th>Current Day</th>\n",
       "      <th>Equity</th>\n",
       "      <th>Average Dollar Volume</th>\n",
       "      <th>Current Price</th>\n",
       "      <th>Earnings Announcement</th>\n",
       "      <th>LagEaSurp</th>\n",
       "      <th>Sector</th>\n",
       "    </tr>\n",
       "  </thead>\n",
       "  <tbody>\n",
       "    <tr>\n",
       "      <th>0</th>\n",
       "      <td>2013-01-03 00:00:00+00:00</td>\n",
       "      <td>Equity(41462 [MOS])</td>\n",
       "      <td>1.313662e+08</td>\n",
       "      <td>58.060</td>\n",
       "      <td>2013-01-04</td>\n",
       "      <td>-12.17</td>\n",
       "      <td>101</td>\n",
       "    </tr>\n",
       "    <tr>\n",
       "      <th>1</th>\n",
       "      <td>2013-01-07 00:00:00+00:00</td>\n",
       "      <td>Equity(22140 [MON])</td>\n",
       "      <td>1.839306e+08</td>\n",
       "      <td>95.560</td>\n",
       "      <td>2013-01-08</td>\n",
       "      <td>0.00</td>\n",
       "      <td>101</td>\n",
       "    </tr>\n",
       "    <tr>\n",
       "      <th>2</th>\n",
       "      <td>2013-01-08 00:00:00+00:00</td>\n",
       "      <td>Equity(24829 [APOL])</td>\n",
       "      <td>3.890250e+07</td>\n",
       "      <td>22.040</td>\n",
       "      <td>2013-01-08</td>\n",
       "      <td>6.12</td>\n",
       "      <td>205</td>\n",
       "    </tr>\n",
       "    <tr>\n",
       "      <th>3</th>\n",
       "      <td>2013-01-08 00:00:00+00:00</td>\n",
       "      <td>Equity(24873 [STZ])</td>\n",
       "      <td>4.164929e+07</td>\n",
       "      <td>36.520</td>\n",
       "      <td>2013-01-09</td>\n",
       "      <td>31.48</td>\n",
       "      <td>205</td>\n",
       "    </tr>\n",
       "    <tr>\n",
       "      <th>4</th>\n",
       "      <td>2013-01-10 00:00:00+00:00</td>\n",
       "      <td>Equity(8151 [WFC])</td>\n",
       "      <td>7.091657e+08</td>\n",
       "      <td>34.847</td>\n",
       "      <td>2013-01-11</td>\n",
       "      <td>1.15</td>\n",
       "      <td>103</td>\n",
       "    </tr>\n",
       "  </tbody>\n",
       "</table>\n",
       "</div>"
      ],
      "text/plain": [
       "                Current Day                Equity  Average Dollar Volume  \\\n",
       "0 2013-01-03 00:00:00+00:00   Equity(41462 [MOS])           1.313662e+08   \n",
       "1 2013-01-07 00:00:00+00:00   Equity(22140 [MON])           1.839306e+08   \n",
       "2 2013-01-08 00:00:00+00:00  Equity(24829 [APOL])           3.890250e+07   \n",
       "3 2013-01-08 00:00:00+00:00   Equity(24873 [STZ])           4.164929e+07   \n",
       "4 2013-01-10 00:00:00+00:00    Equity(8151 [WFC])           7.091657e+08   \n",
       "\n",
       "   Current Price Earnings Announcement  LagEaSurp  Sector  \n",
       "0         58.060            2013-01-04     -12.17     101  \n",
       "1         95.560            2013-01-08       0.00     101  \n",
       "2         22.040            2013-01-08       6.12     205  \n",
       "3         36.520            2013-01-09      31.48     205  \n",
       "4         34.847            2013-01-11       1.15     103  "
      ]
     },
     "execution_count": 9,
     "metadata": {},
     "output_type": "execute_result"
    }
   ],
   "source": [
    "positions_data.reset_index(inplace=True)\n",
    "positions_data.rename(columns= {\n",
    "                 'level_0': 'Current Day',\n",
    "                 'level_1': 'Equity'\n",
    "                 },\n",
    "                 inplace=True)\n",
    "positions_data.head()"
   ]
  },
  {
   "cell_type": "code",
   "execution_count": 10,
   "metadata": {
    "collapsed": false
   },
   "outputs": [
    {
     "data": {
      "text/html": [
       "<div>\n",
       "<table border=\"1\" class=\"dataframe\">\n",
       "  <thead>\n",
       "    <tr style=\"text-align: right;\">\n",
       "      <th></th>\n",
       "      <th></th>\n",
       "      <th>Current Day</th>\n",
       "      <th>Average Dollar Volume</th>\n",
       "      <th>Current Price</th>\n",
       "      <th>LagEaSurp</th>\n",
       "      <th>Sector</th>\n",
       "    </tr>\n",
       "    <tr>\n",
       "      <th>Earnings Announcement</th>\n",
       "      <th>Equity</th>\n",
       "      <th></th>\n",
       "      <th></th>\n",
       "      <th></th>\n",
       "      <th></th>\n",
       "      <th></th>\n",
       "    </tr>\n",
       "  </thead>\n",
       "  <tbody>\n",
       "    <tr>\n",
       "      <th>2013-01-04</th>\n",
       "      <th>Equity(41462 [MOS])</th>\n",
       "      <td>2013-01-03 00:00:00+00:00</td>\n",
       "      <td>1.313662e+08</td>\n",
       "      <td>58.060</td>\n",
       "      <td>-12.17</td>\n",
       "      <td>101</td>\n",
       "    </tr>\n",
       "    <tr>\n",
       "      <th rowspan=\"2\" valign=\"top\">2013-01-08</th>\n",
       "      <th>Equity(22140 [MON])</th>\n",
       "      <td>2013-01-07 00:00:00+00:00</td>\n",
       "      <td>1.839306e+08</td>\n",
       "      <td>95.560</td>\n",
       "      <td>0.00</td>\n",
       "      <td>101</td>\n",
       "    </tr>\n",
       "    <tr>\n",
       "      <th>Equity(24829 [APOL])</th>\n",
       "      <td>2013-01-08 00:00:00+00:00</td>\n",
       "      <td>3.890250e+07</td>\n",
       "      <td>22.040</td>\n",
       "      <td>6.12</td>\n",
       "      <td>205</td>\n",
       "    </tr>\n",
       "    <tr>\n",
       "      <th>2013-01-09</th>\n",
       "      <th>Equity(24873 [STZ])</th>\n",
       "      <td>2013-01-08 00:00:00+00:00</td>\n",
       "      <td>4.164929e+07</td>\n",
       "      <td>36.520</td>\n",
       "      <td>31.48</td>\n",
       "      <td>205</td>\n",
       "    </tr>\n",
       "    <tr>\n",
       "      <th>2013-01-11</th>\n",
       "      <th>Equity(8151 [WFC])</th>\n",
       "      <td>2013-01-10 00:00:00+00:00</td>\n",
       "      <td>7.091657e+08</td>\n",
       "      <td>34.847</td>\n",
       "      <td>1.15</td>\n",
       "      <td>103</td>\n",
       "    </tr>\n",
       "  </tbody>\n",
       "</table>\n",
       "</div>"
      ],
      "text/plain": [
       "                                                         Current Day  \\\n",
       "Earnings Announcement Equity                                           \n",
       "2013-01-04            Equity(41462 [MOS])  2013-01-03 00:00:00+00:00   \n",
       "2013-01-08            Equity(22140 [MON])  2013-01-07 00:00:00+00:00   \n",
       "                      Equity(24829 [APOL]) 2013-01-08 00:00:00+00:00   \n",
       "2013-01-09            Equity(24873 [STZ])  2013-01-08 00:00:00+00:00   \n",
       "2013-01-11            Equity(8151 [WFC])   2013-01-10 00:00:00+00:00   \n",
       "\n",
       "                                            Average Dollar Volume  \\\n",
       "Earnings Announcement Equity                                        \n",
       "2013-01-04            Equity(41462 [MOS])            1.313662e+08   \n",
       "2013-01-08            Equity(22140 [MON])            1.839306e+08   \n",
       "                      Equity(24829 [APOL])           3.890250e+07   \n",
       "2013-01-09            Equity(24873 [STZ])            4.164929e+07   \n",
       "2013-01-11            Equity(8151 [WFC])             7.091657e+08   \n",
       "\n",
       "                                            Current Price  LagEaSurp  Sector  \n",
       "Earnings Announcement Equity                                                  \n",
       "2013-01-04            Equity(41462 [MOS])          58.060     -12.17     101  \n",
       "2013-01-08            Equity(22140 [MON])          95.560       0.00     101  \n",
       "                      Equity(24829 [APOL])         22.040       6.12     205  \n",
       "2013-01-09            Equity(24873 [STZ])          36.520      31.48     205  \n",
       "2013-01-11            Equity(8151 [WFC])           34.847       1.15     103  "
      ]
     },
     "execution_count": 10,
     "metadata": {},
     "output_type": "execute_result"
    }
   ],
   "source": [
    "positions_data.set_index(['Earnings Announcement', 'Equity'], inplace=True)\n",
    "positions_data.head()"
   ]
  },
  {
   "cell_type": "code",
   "execution_count": 11,
   "metadata": {
    "collapsed": false
   },
   "outputs": [
    {
     "data": {
      "text/html": [
       "<div>\n",
       "<table border=\"1\" class=\"dataframe\">\n",
       "  <thead>\n",
       "    <tr style=\"text-align: right;\">\n",
       "      <th></th>\n",
       "      <th></th>\n",
       "      <th>Returns 2 days after</th>\n",
       "    </tr>\n",
       "    <tr>\n",
       "      <th>Earnings Announcement</th>\n",
       "      <th>Equity</th>\n",
       "      <th></th>\n",
       "    </tr>\n",
       "  </thead>\n",
       "  <tbody>\n",
       "    <tr>\n",
       "      <th>2013-01-03</th>\n",
       "      <th>Equity(2760 [FDO])</th>\n",
       "      <td>-0.123567</td>\n",
       "    </tr>\n",
       "    <tr>\n",
       "      <th>2013-01-04</th>\n",
       "      <th>Equity(41462 [MOS])</th>\n",
       "      <td>0.010936</td>\n",
       "    </tr>\n",
       "    <tr>\n",
       "      <th rowspan=\"3\" valign=\"top\">2013-01-08</th>\n",
       "      <th>Equity(22140 [MON])</th>\n",
       "      <td>0.024255</td>\n",
       "    </tr>\n",
       "    <tr>\n",
       "      <th>Equity(2 [ARNC])</th>\n",
       "      <td>-0.004367</td>\n",
       "    </tr>\n",
       "    <tr>\n",
       "      <th>Equity(24829 [APOL])</th>\n",
       "      <td>-0.095550</td>\n",
       "    </tr>\n",
       "  </tbody>\n",
       "</table>\n",
       "</div>"
      ],
      "text/plain": [
       "                                            Returns 2 days after\n",
       "Earnings Announcement Equity                                    \n",
       "2013-01-03            Equity(2760 [FDO])               -0.123567\n",
       "2013-01-04            Equity(41462 [MOS])               0.010936\n",
       "2013-01-08            Equity(22140 [MON])               0.024255\n",
       "                      Equity(2 [ARNC])                 -0.004367\n",
       "                      Equity(24829 [APOL])             -0.095550"
      ]
     },
     "execution_count": 11,
     "metadata": {},
     "output_type": "execute_result"
    }
   ],
   "source": [
    "returns_data.reset_index(inplace=True)\n",
    "# We don't care about the date used as the previous index\n",
    "del returns_data['level_0']\n",
    "returns_data.rename(columns ={'level_1': 'Equity'}, inplace=True)\n",
    "returns_data.set_index(['Earnings Announcement', 'Equity'], inplace=True)\n",
    "returns_data.head()"
   ]
  },
  {
   "cell_type": "markdown",
   "metadata": {},
   "source": [
    "Now combining these two data frames we have a pipeline with 2 days look-ahead return"
   ]
  },
  {
   "cell_type": "code",
   "execution_count": 12,
   "metadata": {
    "collapsed": false
   },
   "outputs": [
    {
     "data": {
      "text/html": [
       "<div>\n",
       "<table border=\"1\" class=\"dataframe\">\n",
       "  <thead>\n",
       "    <tr style=\"text-align: right;\">\n",
       "      <th></th>\n",
       "      <th></th>\n",
       "      <th>Returns 2 days after</th>\n",
       "      <th>Current Day</th>\n",
       "      <th>Average Dollar Volume</th>\n",
       "      <th>Current Price</th>\n",
       "      <th>LagEaSurp</th>\n",
       "      <th>Sector</th>\n",
       "    </tr>\n",
       "    <tr>\n",
       "      <th>Earnings Announcement</th>\n",
       "      <th>Equity</th>\n",
       "      <th></th>\n",
       "      <th></th>\n",
       "      <th></th>\n",
       "      <th></th>\n",
       "      <th></th>\n",
       "      <th></th>\n",
       "    </tr>\n",
       "  </thead>\n",
       "  <tbody>\n",
       "    <tr>\n",
       "      <th>2013-01-04</th>\n",
       "      <th>Equity(41462 [MOS])</th>\n",
       "      <td>0.010936</td>\n",
       "      <td>2013-01-03 00:00:00+00:00</td>\n",
       "      <td>1.313662e+08</td>\n",
       "      <td>58.060</td>\n",
       "      <td>-12.17</td>\n",
       "      <td>101.0</td>\n",
       "    </tr>\n",
       "    <tr>\n",
       "      <th rowspan=\"2\" valign=\"top\">2013-01-08</th>\n",
       "      <th>Equity(22140 [MON])</th>\n",
       "      <td>0.024255</td>\n",
       "      <td>2013-01-07 00:00:00+00:00</td>\n",
       "      <td>1.839306e+08</td>\n",
       "      <td>95.560</td>\n",
       "      <td>0.00</td>\n",
       "      <td>101.0</td>\n",
       "    </tr>\n",
       "    <tr>\n",
       "      <th>Equity(24829 [APOL])</th>\n",
       "      <td>-0.095550</td>\n",
       "      <td>2013-01-08 00:00:00+00:00</td>\n",
       "      <td>3.890250e+07</td>\n",
       "      <td>22.040</td>\n",
       "      <td>6.12</td>\n",
       "      <td>205.0</td>\n",
       "    </tr>\n",
       "    <tr>\n",
       "      <th>2013-01-09</th>\n",
       "      <th>Equity(24873 [STZ])</th>\n",
       "      <td>-0.001649</td>\n",
       "      <td>2013-01-08 00:00:00+00:00</td>\n",
       "      <td>4.164929e+07</td>\n",
       "      <td>36.520</td>\n",
       "      <td>31.48</td>\n",
       "      <td>205.0</td>\n",
       "    </tr>\n",
       "    <tr>\n",
       "      <th>2013-01-11</th>\n",
       "      <th>Equity(8151 [WFC])</th>\n",
       "      <td>-0.001142</td>\n",
       "      <td>2013-01-10 00:00:00+00:00</td>\n",
       "      <td>7.091657e+08</td>\n",
       "      <td>34.847</td>\n",
       "      <td>1.15</td>\n",
       "      <td>103.0</td>\n",
       "    </tr>\n",
       "  </tbody>\n",
       "</table>\n",
       "</div>"
      ],
      "text/plain": [
       "                                            Returns 2 days after  \\\n",
       "Earnings Announcement Equity                                       \n",
       "2013-01-04            Equity(41462 [MOS])               0.010936   \n",
       "2013-01-08            Equity(22140 [MON])               0.024255   \n",
       "                      Equity(24829 [APOL])             -0.095550   \n",
       "2013-01-09            Equity(24873 [STZ])              -0.001649   \n",
       "2013-01-11            Equity(8151 [WFC])               -0.001142   \n",
       "\n",
       "                                                         Current Day  \\\n",
       "Earnings Announcement Equity                                           \n",
       "2013-01-04            Equity(41462 [MOS])  2013-01-03 00:00:00+00:00   \n",
       "2013-01-08            Equity(22140 [MON])  2013-01-07 00:00:00+00:00   \n",
       "                      Equity(24829 [APOL]) 2013-01-08 00:00:00+00:00   \n",
       "2013-01-09            Equity(24873 [STZ])  2013-01-08 00:00:00+00:00   \n",
       "2013-01-11            Equity(8151 [WFC])   2013-01-10 00:00:00+00:00   \n",
       "\n",
       "                                            Average Dollar Volume  \\\n",
       "Earnings Announcement Equity                                        \n",
       "2013-01-04            Equity(41462 [MOS])            1.313662e+08   \n",
       "2013-01-08            Equity(22140 [MON])            1.839306e+08   \n",
       "                      Equity(24829 [APOL])           3.890250e+07   \n",
       "2013-01-09            Equity(24873 [STZ])            4.164929e+07   \n",
       "2013-01-11            Equity(8151 [WFC])             7.091657e+08   \n",
       "\n",
       "                                            Current Price  LagEaSurp  Sector  \n",
       "Earnings Announcement Equity                                                  \n",
       "2013-01-04            Equity(41462 [MOS])          58.060     -12.17   101.0  \n",
       "2013-01-08            Equity(22140 [MON])          95.560       0.00   101.0  \n",
       "                      Equity(24829 [APOL])         22.040       6.12   205.0  \n",
       "2013-01-09            Equity(24873 [STZ])          36.520      31.48   205.0  \n",
       "2013-01-11            Equity(8151 [WFC])           34.847       1.15   103.0  "
      ]
     },
     "execution_count": 12,
     "metadata": {},
     "output_type": "execute_result"
    }
   ],
   "source": [
    "stock_data = returns_data.join(positions_data)\n",
    "stock_data.dropna(inplace=True)\n",
    "stock_data.head()"
   ]
  },
  {
   "cell_type": "code",
   "execution_count": 13,
   "metadata": {
    "collapsed": true
   },
   "outputs": [],
   "source": [
    "def create_deciles_pipeline():    \n",
    "    mask = Q500US()\n",
    "    lag_e_surp = EarningsSurprises.eps_pct_diff_surp.latest\n",
    "    decile = lag_e_surp.deciles(mask=mask)\n",
    "    date = EarningsSurprises.asof_date.latest\n",
    "    \n",
    "    return Pipeline(columns= {\n",
    "        'LagESurp Decile': decile,\n",
    "        'LagESurp': lag_e_surp,\n",
    "        'Earnings Announcement Date' : date\n",
    "                    },\n",
    "                    screen=mask)"
   ]
  },
  {
   "cell_type": "markdown",
   "metadata": {},
   "source": [
    "Run the pipeline at the begining of each quarter"
   ]
  },
  {
   "cell_type": "code",
   "execution_count": 14,
   "metadata": {
    "collapsed": true
   },
   "outputs": [],
   "source": [
    "def run_pipeline_freq(start, end, pipeline):\n",
    "    '''\n",
    "    Runs a pipeline given a pandas datetime frequency like \"Q\" \n",
    "    '''\n",
    "    quarters = pd.date_range(start, end, freq='QS')\n",
    "    quarters = quarters.tolist()\n",
    "    if start not in quarters:\n",
    "        start = start - pd.tseries.offsets.QuarterOffset()\n",
    "        quarters.insert(0, start)\n",
    "        \n",
    "    output = None\n",
    "    return pd.concat(map(\n",
    "        lambda i: run_pipeline(pipeline, quarters[i],quarters[i]),\n",
    "        range(len(quarters))\n",
    "    ))"
   ]
  },
  {
   "cell_type": "markdown",
   "metadata": {},
   "source": [
    "The output of this pipeline will be the decile of 'LagESurp' factor measured in the whole quarter (the default will only compute decile in a day)"
   ]
  },
  {
   "cell_type": "code",
   "execution_count": 15,
   "metadata": {
    "collapsed": false
   },
   "outputs": [
    {
     "data": {
      "text/html": [
       "<div>\n",
       "<table border=\"1\" class=\"dataframe\">\n",
       "  <thead>\n",
       "    <tr style=\"text-align: right;\">\n",
       "      <th></th>\n",
       "      <th></th>\n",
       "      <th>Earnings Announcement Date</th>\n",
       "      <th>LagESurp</th>\n",
       "      <th>LagESurp Decile</th>\n",
       "    </tr>\n",
       "  </thead>\n",
       "  <tbody>\n",
       "    <tr>\n",
       "      <th rowspan=\"5\" valign=\"top\">2013-01-02 00:00:00+00:00</th>\n",
       "      <th>Equity(24 [AAPL])</th>\n",
       "      <td>2012-10-26</td>\n",
       "      <td>-2.03</td>\n",
       "      <td>2</td>\n",
       "    </tr>\n",
       "    <tr>\n",
       "      <th>Equity(67 [ADSK])</th>\n",
       "      <td>2012-11-16</td>\n",
       "      <td>-9.68</td>\n",
       "      <td>0</td>\n",
       "    </tr>\n",
       "    <tr>\n",
       "      <th>Equity(114 [ADBE])</th>\n",
       "      <td>2012-12-14</td>\n",
       "      <td>6.52</td>\n",
       "      <td>6</td>\n",
       "    </tr>\n",
       "    <tr>\n",
       "      <th>Equity(122 [ADI])</th>\n",
       "      <td>2012-11-28</td>\n",
       "      <td>1.75</td>\n",
       "      <td>4</td>\n",
       "    </tr>\n",
       "    <tr>\n",
       "      <th>Equity(128 [ADM])</th>\n",
       "      <td>2012-10-24</td>\n",
       "      <td>13.64</td>\n",
       "      <td>8</td>\n",
       "    </tr>\n",
       "  </tbody>\n",
       "</table>\n",
       "</div>"
      ],
      "text/plain": [
       "                                             Earnings Announcement Date  \\\n",
       "2013-01-02 00:00:00+00:00 Equity(24 [AAPL])                  2012-10-26   \n",
       "                          Equity(67 [ADSK])                  2012-11-16   \n",
       "                          Equity(114 [ADBE])                 2012-12-14   \n",
       "                          Equity(122 [ADI])                  2012-11-28   \n",
       "                          Equity(128 [ADM])                  2012-10-24   \n",
       "\n",
       "                                              LagESurp  LagESurp Decile  \n",
       "2013-01-02 00:00:00+00:00 Equity(24 [AAPL])      -2.03                2  \n",
       "                          Equity(67 [ADSK])      -9.68                0  \n",
       "                          Equity(114 [ADBE])      6.52                6  \n",
       "                          Equity(122 [ADI])       1.75                4  \n",
       "                          Equity(128 [ADM])      13.64                8  "
      ]
     },
     "execution_count": 15,
     "metadata": {},
     "output_type": "execute_result"
    }
   ],
   "source": [
    "decile_data = run_pipeline_freq(START, END, create_deciles_pipeline())\n",
    "decile_data = decile_data.dropna()\n",
    "decile_data.head()"
   ]
  },
  {
   "cell_type": "code",
   "execution_count": 16,
   "metadata": {
    "collapsed": true
   },
   "outputs": [],
   "source": [
    "def get_quarter(date):\n",
    "    date = pd.Timestamp(date)\n",
    "    return \"Q{}_{}\".format(str(date.quarter), str(date.year))\n",
    "\n",
    "def compute_deciles(decile_data):\n",
    "    decile_data = decile_data.reset_index()\n",
    "    quarters = decile_data['level_0'].unique()\n",
    "    quarterly_deciles = {}\n",
    "    \n",
    "    for quarter in quarters:\n",
    "        quarter_str = get_quarter(quarter)\n",
    "        quarter_data = decile_data[decile_data['level_0'] == quarter]\n",
    "        deciles = []\n",
    "        for decile in range(0, 9):\n",
    "            deciles.append(quarter_data[quarter_data['LagESurp Decile'] == decile]['LagESurp'].max())\n",
    "\n",
    "        quarterly_deciles[quarter_str] = deciles\n",
    "        \n",
    "    return quarterly_deciles"
   ]
  },
  {
   "cell_type": "markdown",
   "metadata": {},
   "source": [
    "compute the deciles cutoff"
   ]
  },
  {
   "cell_type": "code",
   "execution_count": 17,
   "metadata": {
    "collapsed": false
   },
   "outputs": [
    {
     "name": "stdout",
     "output_type": "stream",
     "text": [
      "[-9.5199999999999996, -2.6000000000000001, 0.0, 0.97999999999999998, 2.3500000000000001, 4.0800000000000001, 7.1399999999999997, 13.33, 21.100000000000001]\n"
     ]
    }
   ],
   "source": [
    "deciles = compute_deciles(decile_data)\n",
    "print deciles['Q1_2013']"
   ]
  },
  {
   "cell_type": "markdown",
   "metadata": {},
   "source": [
    "determine the decile of equities in stock_data using the cutoff"
   ]
  },
  {
   "cell_type": "code",
   "execution_count": 18,
   "metadata": {
    "collapsed": true
   },
   "outputs": [],
   "source": [
    "# add quarter column\n",
    "stock_data['Quarter'] = [get_quarter(x) for x in stock_data['Current Day']]\n",
    "\n",
    "# add decile for each stock in our dataframe\n",
    "for idx, row in stock_data.iterrows():\n",
    "    cutoffs = deciles[row['Quarter']]\n",
    "    lag_ea_surp = row['LagEaSurp']\n",
    "    dec = bisect.bisect_left(cutoffs, lag_ea_surp)\n",
    "    stock_data.set_value(idx, 'Decile', dec)"
   ]
  },
  {
   "cell_type": "code",
   "execution_count": 19,
   "metadata": {
    "collapsed": false
   },
   "outputs": [
    {
     "data": {
      "text/html": [
       "<div>\n",
       "<table border=\"1\" class=\"dataframe\">\n",
       "  <thead>\n",
       "    <tr style=\"text-align: right;\">\n",
       "      <th></th>\n",
       "      <th>Earnings Announcement</th>\n",
       "      <th>Equity</th>\n",
       "      <th>Returns 2 days after</th>\n",
       "      <th>Current Day</th>\n",
       "      <th>Average Dollar Volume</th>\n",
       "      <th>Current Price</th>\n",
       "      <th>LagEaSurp</th>\n",
       "      <th>Sector</th>\n",
       "      <th>Quarter</th>\n",
       "      <th>Decile</th>\n",
       "    </tr>\n",
       "  </thead>\n",
       "  <tbody>\n",
       "    <tr>\n",
       "      <th>0</th>\n",
       "      <td>2013-01-04</td>\n",
       "      <td>Equity(41462 [MOS])</td>\n",
       "      <td>0.010936</td>\n",
       "      <td>2013-01-03 00:00:00+00:00</td>\n",
       "      <td>1.313662e+08</td>\n",
       "      <td>58.060</td>\n",
       "      <td>-12.17</td>\n",
       "      <td>101.0</td>\n",
       "      <td>Q1_2013</td>\n",
       "      <td>0.0</td>\n",
       "    </tr>\n",
       "    <tr>\n",
       "      <th>1</th>\n",
       "      <td>2013-01-08</td>\n",
       "      <td>Equity(22140 [MON])</td>\n",
       "      <td>0.024255</td>\n",
       "      <td>2013-01-07 00:00:00+00:00</td>\n",
       "      <td>1.839306e+08</td>\n",
       "      <td>95.560</td>\n",
       "      <td>0.00</td>\n",
       "      <td>101.0</td>\n",
       "      <td>Q1_2013</td>\n",
       "      <td>2.0</td>\n",
       "    </tr>\n",
       "    <tr>\n",
       "      <th>2</th>\n",
       "      <td>2013-01-08</td>\n",
       "      <td>Equity(24829 [APOL])</td>\n",
       "      <td>-0.095550</td>\n",
       "      <td>2013-01-08 00:00:00+00:00</td>\n",
       "      <td>3.890250e+07</td>\n",
       "      <td>22.040</td>\n",
       "      <td>6.12</td>\n",
       "      <td>205.0</td>\n",
       "      <td>Q1_2013</td>\n",
       "      <td>6.0</td>\n",
       "    </tr>\n",
       "    <tr>\n",
       "      <th>3</th>\n",
       "      <td>2013-01-09</td>\n",
       "      <td>Equity(24873 [STZ])</td>\n",
       "      <td>-0.001649</td>\n",
       "      <td>2013-01-08 00:00:00+00:00</td>\n",
       "      <td>4.164929e+07</td>\n",
       "      <td>36.520</td>\n",
       "      <td>31.48</td>\n",
       "      <td>205.0</td>\n",
       "      <td>Q1_2013</td>\n",
       "      <td>9.0</td>\n",
       "    </tr>\n",
       "    <tr>\n",
       "      <th>4</th>\n",
       "      <td>2013-01-11</td>\n",
       "      <td>Equity(8151 [WFC])</td>\n",
       "      <td>-0.001142</td>\n",
       "      <td>2013-01-10 00:00:00+00:00</td>\n",
       "      <td>7.091657e+08</td>\n",
       "      <td>34.847</td>\n",
       "      <td>1.15</td>\n",
       "      <td>103.0</td>\n",
       "      <td>Q1_2013</td>\n",
       "      <td>4.0</td>\n",
       "    </tr>\n",
       "  </tbody>\n",
       "</table>\n",
       "</div>"
      ],
      "text/plain": [
       "  Earnings Announcement                Equity  Returns 2 days after  \\\n",
       "0            2013-01-04   Equity(41462 [MOS])              0.010936   \n",
       "1            2013-01-08   Equity(22140 [MON])              0.024255   \n",
       "2            2013-01-08  Equity(24829 [APOL])             -0.095550   \n",
       "3            2013-01-09   Equity(24873 [STZ])             -0.001649   \n",
       "4            2013-01-11    Equity(8151 [WFC])             -0.001142   \n",
       "\n",
       "                Current Day  Average Dollar Volume  Current Price  LagEaSurp  \\\n",
       "0 2013-01-03 00:00:00+00:00           1.313662e+08         58.060     -12.17   \n",
       "1 2013-01-07 00:00:00+00:00           1.839306e+08         95.560       0.00   \n",
       "2 2013-01-08 00:00:00+00:00           3.890250e+07         22.040       6.12   \n",
       "3 2013-01-08 00:00:00+00:00           4.164929e+07         36.520      31.48   \n",
       "4 2013-01-10 00:00:00+00:00           7.091657e+08         34.847       1.15   \n",
       "\n",
       "   Sector  Quarter  Decile  \n",
       "0   101.0  Q1_2013     0.0  \n",
       "1   101.0  Q1_2013     2.0  \n",
       "2   205.0  Q1_2013     6.0  \n",
       "3   205.0  Q1_2013     9.0  \n",
       "4   103.0  Q1_2013     4.0  "
      ]
     },
     "execution_count": 19,
     "metadata": {},
     "output_type": "execute_result"
    }
   ],
   "source": [
    "stock_data = stock_data.reset_index()\n",
    "stock_data.head()"
   ]
  },
  {
   "cell_type": "code",
   "execution_count": null,
   "metadata": {
    "collapsed": true
   },
   "outputs": [],
   "source": []
  }
 ],
 "metadata": {
  "kernelspec": {
   "display_name": "Python 2",
   "language": "python",
   "name": "python2"
  },
  "language_info": {
   "codemirror_mode": {
    "name": "ipython",
    "version": 2
   },
   "file_extension": ".py",
   "mimetype": "text/x-python",
   "name": "python",
   "nbconvert_exporter": "python",
   "pygments_lexer": "ipython2",
   "version": "2.7.12"
  }
 },
 "nbformat": 4,
 "nbformat_minor": 2
}